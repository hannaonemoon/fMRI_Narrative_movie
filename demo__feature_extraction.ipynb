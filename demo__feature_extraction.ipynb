{
 "cells": [
  {
   "cell_type": "code",
   "execution_count": null,
   "id": "c4ccf748",
   "metadata": {},
   "outputs": [],
   "source": [
    "\n",
    "import numpy as np\n",
    "import scipy.io as sio\n",
    "import os\n",
    "from os.path import basename\n",
    "from util import util_feat as uft\n",
    "\n",
    "import yaml\n",
    "with open('./util/config__drama_data.yaml', 'r') as yml:\n",
    "    config = yaml.safe_load(yml)\n",
    "        "
   ]
  },
  {
   "cell_type": "code",
   "execution_count": null,
   "id": "491c54a0",
   "metadata": {},
   "outputs": [],
   "source": []
  },
  {
   "cell_type": "code",
   "execution_count": null,
   "id": "e3931756-1e0c-453f-b723-88dea317a447",
   "metadata": {},
   "outputs": [],
   "source": []
  },
  {
   "cell_type": "markdown",
   "id": "5bd069a5",
   "metadata": {},
   "source": [
    "# (demo 1) Feature extraction for a text file\n",
    "\n",
    "## Param: Setting parameters\n",
    "\n",
    "model_lang : 'jp'(Japanese) or 'en'(English)<br>\n",
    "text_path : path of the text file (~.txt)<br>"
   ]
  },
  {
   "cell_type": "code",
   "execution_count": null,
   "id": "dac51e15",
   "metadata": {},
   "outputs": [],
   "source": [
    "model_lang = 'en'\n",
    "layer_no = 24\n",
    "text_path = './demo_files/test_annotation.txt'"
   ]
  },
  {
   "cell_type": "markdown",
   "id": "2a858d60",
   "metadata": {},
   "source": [
    "## Main: Feature extraction for each line in the text file."
   ]
  },
  {
   "cell_type": "code",
   "execution_count": null,
   "id": "ede9fc10",
   "metadata": {},
   "outputs": [],
   "source": [
    "\n",
    "if model_lang == 'jp':\n",
    "    model_name = 'GPT2medium_jp_layer{:d}_mean'.format(layer_no)\n",
    "elif model_lang == 'en':\n",
    "    model_name = 'GPT2medium_en_layer{:d}_mean'.format(layer_no)\n",
    "    \n",
    "model_set = uft.initial_setup_for_model(model_name)\n",
    "    \n",
    "    \n",
    "# Load the text file\n",
    "f = open(text_path)\n",
    "lines = f.readlines()\n",
    "f.close()\n",
    "\n",
    "# Cleaning texts\n",
    "print('********** Feature extraction using {:s} **********'.format(model_name))\n",
    "features = []\n",
    "for li, line in enumerate(lines):\n",
    "    line_clean = uft.text_cleaning(line) # preprocessing for each line\n",
    "    print('(line ID:{:d}): {:s}'.format(li, line_clean))\n",
    "    feature = uft.feature_extraction_using_GPT2(model_set, line_clean)\n",
    "    features.append(feature.to('cpu').detach().numpy().copy()[0])  \n",
    "\n",
    "del feature\n",
    "features = np.array(features)"
   ]
  },
  {
   "cell_type": "code",
   "execution_count": null,
   "id": "4f672f67",
   "metadata": {},
   "outputs": [],
   "source": []
  },
  {
   "cell_type": "code",
   "execution_count": null,
   "id": "1aeb96d9",
   "metadata": {},
   "outputs": [],
   "source": []
  },
  {
   "cell_type": "markdown",
   "id": "514e168f",
   "metadata": {},
   "source": [
    "# (demo 2) Feature extraction for our annotation files\n",
    "## Param: Setting parameters\n",
    "\n",
    "featCode : 0–3. We prepared 4 features corresponding to the 4 annotations (0: obj, 1: speech(jp), 2: speech(en), 3: story). <br>\n",
    "saveDir : directory of the annotation files <br>"
   ]
  },
  {
   "cell_type": "code",
   "execution_count": null,
   "id": "f71179a8",
   "metadata": {},
   "outputs": [],
   "source": [
    "featCode = 1\n",
    "saveDir = './feature/'"
   ]
  },
  {
   "cell_type": "markdown",
   "id": "58285061",
   "metadata": {},
   "source": [
    "## Main: Feature extraction for each line in each annotation file."
   ]
  },
  {
   "cell_type": "code",
   "execution_count": null,
   "id": "151d8e46",
   "metadata": {},
   "outputs": [],
   "source": [
    "\n",
    "annot_name = config['annotInfo']['annotTypes'] [featCode]\n",
    "model_name_main = config['annotInfo']['modelNames'] [featCode]\n",
    "model_name_sub = config['annotInfo']['modelSubNames'] [model_name_main][featCode]\n",
    "model_name = model_name_main + '_' + model_name_sub\n",
    "\n",
    "'''\n",
    "You can change merge_type as follows ...\n",
    "> merge_type = sum     # eos, sum, mean\n",
    "> model_name.replace('mean', merge_type)\n",
    "'''\n",
    "\n",
    "print('Feature extraction : {:s}'.format(model_name))\n",
    "os.makedirs(saveDir, exist_ok=True)\n",
    "\n",
    "# initial setip of model \n",
    "fileNames_txt, fileNames_feat = uft.set_load_and_save_info(config, annot_name, model_name)\n",
    "model_set = uft.initial_setup_for_model(model_name)\n",
    "\n",
    "# --------------------------------------------------\n",
    "for fi in range(0, len(fileNames_txt)):\n",
    "\n",
    "    print('Now processing for : {:s}'.format(fileNames_txt[fi]))\n",
    "\n",
    "    # Load lines\n",
    "    f = open(fileNames_txt[fi])\n",
    "    lines = f.readlines()\n",
    "    f.close()\n",
    "\n",
    "    # Set texts\n",
    "    texts = []\n",
    "    for li, line in enumerate(lines):\n",
    "        \n",
    "        # preprocessing for each line\n",
    "        line = uft.preproc_line(annot_name, line)\n",
    "        \n",
    "        # append to list\n",
    "        texts.append(line)  \n",
    "\n",
    "    # feature extraction\n",
    "    features = uft.feature_extraction_using_GPT2__annotation(model_set, texts)\n",
    "    \n",
    "    # Save features\n",
    "    path_save = '{:s}/{:s}'.format(saveDir, basename(fileNames_feat[fi]))\n",
    "    sio.savemat(path_save, {'stim':features})\n",
    "\n"
   ]
  },
  {
   "cell_type": "code",
   "execution_count": null,
   "id": "88fbb35d-4d0c-4a0a-b980-bc7e516f5252",
   "metadata": {},
   "outputs": [],
   "source": []
  },
  {
   "cell_type": "code",
   "execution_count": null,
   "id": "01a63ee6-7c0b-4282-8099-a72db271e9dd",
   "metadata": {},
   "outputs": [],
   "source": []
  }
 ],
 "metadata": {
  "kernelspec": {
   "display_name": "downgrade",
   "language": "python",
   "name": "downgrade"
  },
  "language_info": {
   "codemirror_mode": {
    "name": "ipython",
    "version": 3
   },
   "file_extension": ".py",
   "mimetype": "text/x-python",
   "name": "python",
   "nbconvert_exporter": "python",
   "pygments_lexer": "ipython3",
   "version": "3.10.13"
  }
 },
 "nbformat": 4,
 "nbformat_minor": 5
}
