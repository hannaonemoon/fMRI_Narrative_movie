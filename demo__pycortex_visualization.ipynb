{
 "cells": [
  {
   "cell_type": "code",
   "execution_count": null,
   "id": "c959adb8-ad41-41f1-a85e-09a642345dd2",
   "metadata": {},
   "outputs": [],
   "source": [
    "import os\n",
    "import numpy as np\n",
    "import pickle\n",
    "import scipy.io as sio\n",
    "import scipy.stats\n",
    "%matplotlib inline\n",
    "import matplotlib.pyplot as plt\n",
    "\n",
    "import yaml\n",
    "with open('./util/config__drama_data.yaml', 'r') as yml:\n",
    "    config = yaml.safe_load(yml)\n",
    "from util import util_pycortex as utlpy\n",
    "from util import util_dataload as udl\n",
    "from util import util_visualization as uvis\n"
   ]
  },
  {
   "cell_type": "code",
   "execution_count": null,
   "id": "a1da7ea0-cc78-44e3-a104-3eea564edac6",
   "metadata": {},
   "outputs": [],
   "source": []
  },
  {
   "cell_type": "code",
   "execution_count": null,
   "id": "4bcb1f6c-8f40-43f4-a678-bfba2e8226e5",
   "metadata": {},
   "outputs": [],
   "source": []
  },
  {
   "cell_type": "markdown",
   "id": "baa0e99a-949f-485c-85ec-519c0da8664e",
   "metadata": {},
   "source": [
    "# (Demo 1) Pycortex visualization\n",
    "## Param: Setting parameters\n",
    "subject_name: S01–S06 <br>\n",
    "stat_path: <br>\n",
    "- File path for statistics (or estimates).\n",
    "- Visualized data should be stored as a dictionary with the key 'stat'. The data array should have a size of (tvoxels,).\n",
    "- \"tvoxels\" denotes voxel indices of the cortex, and can be obtained by the following command.\n",
    "> from util import util_dataload as udl<br>\n",
    "> load_items = udl.set_load_items(config, subjectID=loadInfoSbID, movID=0) # loadInfoSbID: 0)S01, 1)S02, ..., 5)S06<br>\n",
    "> tvoxels = udl.load_mask_data(load_items['mask_path']) # The obtained voxel indices follow Python order.<br>"
   ]
  },
  {
   "cell_type": "code",
   "execution_count": null,
   "id": "eab96151-7683-4c36-b147-ec3681fc3566",
   "metadata": {},
   "outputs": [],
   "source": [
    "subject_name = 'S01'\n",
    "stat_path = './demo_files/ridge_stats__DM01.pkl'\n",
    "saveFigName = 'visualization_test' # Save as .png file\n",
    "\n",
    "with_rois = True\n",
    "with_sulci = True\n",
    "with_curvature = True"
   ]
  },
  {
   "cell_type": "markdown",
   "id": "f2bf7e33-beac-48ae-8002-404c4e1415eb",
   "metadata": {},
   "source": [
    "## Main: Visualization"
   ]
  },
  {
   "cell_type": "code",
   "execution_count": null,
   "id": "ee6d2968-fb51-4679-8e2d-c75273309127",
   "metadata": {},
   "outputs": [],
   "source": [
    "###\n",
    "### Custom\n",
    "\n",
    "dataInfo = utlpy.get_dataInfo(config, subject_name)\n",
    "\n",
    "# Other params\n",
    "max_stat = 0.3 # Setting max value to show result\n",
    "with_colorbar = True\n",
    "Sigs = [] # [] is ok. [data array with size:(sigTvoxelIDs, )] IDs of tvoxels showing significance\n",
    "integrationScale = 1 # Arrange stat scales when integrating colors\n",
    "\n",
    "# Load stats\n",
    "with open(stat_path, 'rb') as f:\n",
    "    dt = pickle.load(f)\n",
    "Stats = [dt['stats']]\n",
    "\n",
    "if len(Sigs)== 0: get_dt3d_sig = False\n",
    "else: get_dt3d_sig = True\n",
    "\n",
    "# Reshape 1d stats to 3d. \n",
    "dt3d_stats_show, dt3d_sig_show, _ = utlpy.get_dt3d_vol(dataInfo, Stats, Sigs, nLaps=1, normData=False, integrationScale=integrationScale, get_dt3d_sig=get_dt3d_sig) # \n",
    "\n",
    "# Set mask if \"get_dt3d_sig == True.\"\n",
    "if get_dt3d_sig == True:\n",
    "    sig_mask = np.sum(dt3d_sig_show, axis=0)\n",
    "    sig_mask[sig_mask>0] = 1\n",
    "    mask = sig_mask #None\n",
    "\n",
    "# Show the flattened cortical map\n",
    "uvis.pycortex_visualization(dataInfo, dt3d_stats_show, dt3d_sig_show, \\\n",
    "                           showType = 'stats', colorType = 'single', max_stat = max_stat, \\\n",
    "                           mask = [], saveFigName = [], \\\n",
    "                           with_rois=with_rois, with_sulci=with_sulci, with_curvature=with_curvature, with_colorbar=with_colorbar)\n"
   ]
  },
  {
   "cell_type": "code",
   "execution_count": null,
   "id": "3b397d87-7c48-49cf-bf30-ca5098b3776a",
   "metadata": {},
   "outputs": [],
   "source": []
  },
  {
   "cell_type": "code",
   "execution_count": null,
   "id": "db59b0a4-bf83-45e9-aa26-cf1a98b32d90",
   "metadata": {},
   "outputs": [],
   "source": []
  },
  {
   "cell_type": "markdown",
   "id": "4c8b80c8-4e3c-434e-952a-9857ebb6fde7",
   "metadata": {},
   "source": [
    "# (Demo 2) Visualization of encoding and froi results in our analyses.\n",
    "\n",
    "## Param: Setting parameters\n",
    "subject_name: S01–S06<br>\n",
    "result: 'banded__obj_speech_story' or 'loc_{no}' {no}:1–9 (e.g. loc_3)"
   ]
  },
  {
   "cell_type": "code",
   "execution_count": null,
   "id": "95499798-c54e-4197-a57d-43abe5543225",
   "metadata": {},
   "outputs": [],
   "source": [
    "subject_name = 'S01' # S01, S02, ..., S06\n",
    "resultType = 'banded__obj_speech_story' # banded__obj_speech_story, loc_{no}:{no}=[1,2,...,11] (e.g. loc_3)\n",
    "\n",
    "with_rois = True\n",
    "with_sulci = True\n",
    "with_curvature = True"
   ]
  },
  {
   "cell_type": "markdown",
   "id": "65ca0a44-6a2d-477f-bec1-e84087db88d5",
   "metadata": {},
   "source": [
    "## Main: Visualization"
   ]
  },
  {
   "cell_type": "code",
   "execution_count": null,
   "id": "1e999801-dbe5-45e0-ae87-e68a6515b6b0",
   "metadata": {},
   "outputs": [],
   "source": [
    "\n",
    "dataInfo = utlpy.get_dataInfo(config, subject_name)\n",
    "\n",
    "###\n",
    "### Banded ridge\n",
    "\n",
    "if resultType == 'banded__obj_speech_story':\n",
    "    \n",
    "    dt = uvis.get_results_visualization_demo(config, dataInfo['subjectName'], resultType)\n",
    "    dt3d_stats_show, dt3d_sig_show, mask, showType = uvis.get_bandedridge_dt3d(dataInfo, dt)\n",
    "    \n",
    "    saveFigName = 'visualization_test'\n",
    "    with_colorbar = False\n",
    "    colorType = 'rgb'\n",
    "    max_stat = 0.02\n",
    "    \n",
    "    uvis.pycortex_visualization(dataInfo, dt3d_stats_show, dt3d_sig_show, \\\n",
    "                               showType = 'stats', colorType = colorType, max_stat = max_stat, \\\n",
    "                               mask = mask, saveFigName = saveFigName, \\\n",
    "                               with_rois=with_rois, with_sulci=with_sulci, with_curvature=with_curvature, with_colorbar=with_colorbar)\n",
    "\n",
    "###\n",
    "### functional ROIs\n",
    "\n",
    "if 'loc_' in resultType:\n",
    "    \n",
    "    dt, locName = uvis.get_results_visualization_demo(config, dataInfo['subjectName'], resultType)\n",
    "    dt3d_stats_show, dt3d_sig_show, mask, showType, colorType = uvis.get_froi_dt3d(dataInfo, dt, locName)\n",
    "    \n",
    "    saveFigName = 'visualization_test'\n",
    "    with_colorbar = False\n",
    "    max_stat = uvis.set_max_stat(locName, colorType)\n",
    "    \n",
    "    uvis.pycortex_visualization(dataInfo, dt3d_stats_show, dt3d_sig_show, \\\n",
    "                               showType = 'stats', colorType = colorType, max_stat = max_stat, \\\n",
    "                               mask = mask, saveFigName = saveFigName, \\\n",
    "                               with_rois=with_rois, with_sulci=with_sulci, with_curvature=with_curvature, with_colorbar=with_colorbar)\n",
    "\n"
   ]
  },
  {
   "cell_type": "code",
   "execution_count": null,
   "id": "d342be45-8dd8-432e-ad73-54af1d368440",
   "metadata": {},
   "outputs": [],
   "source": []
  },
  {
   "cell_type": "code",
   "execution_count": null,
   "id": "8b13289d-d54b-4b22-968d-455529af24d3",
   "metadata": {},
   "outputs": [],
   "source": []
  },
  {
   "cell_type": "markdown",
   "id": "18ebeca4-da0c-4b80-8536-8b98146523f8",
   "metadata": {},
   "source": [
    "## (Demo3) Getting voxel indices in a specific ROI.\n",
    "Available roi names: 'V1', 'V2', 'V3', 'FFA', 'OFA', 'PPA', 'MT+', 'AC', 'S1H', 'S1M', 'S1F', 'M1H', 'M1M', 'M1F', 'IPS', 'FEF'<br>\n",
    "Refer to the following Pycortex page for available options: https://gallantlab.org/pycortex/generated/cortex.utils.get_roi_masks.html"
   ]
  },
  {
   "cell_type": "code",
   "execution_count": null,
   "id": "6c3a8805-bcef-47c3-9553-c0c862c0f389",
   "metadata": {},
   "outputs": [],
   "source": [
    "roi = \"MT+\"\n",
    "subject_name = 'S01' # S01, S02, ..., S06"
   ]
  },
  {
   "cell_type": "code",
   "execution_count": null,
   "id": "eddfe2f1-535f-4688-8e19-a77b1daf22e4",
   "metadata": {},
   "outputs": [],
   "source": [
    "import cortex\n",
    "dataInfo = utlpy.get_dataInfo(config, subject_name)\n",
    "\n",
    "roi_masks = cortex.utils.get_roi_masks(dataInfo['subjectNamePycortex'], dataInfo['dataSetName'],\n",
    "                                       roi_list=[roi], gm_sampler='cortical-conservative')\n",
    "\n",
    "roi_data = cortex.Volume(roi_masks[roi], dataInfo['subjectNamePycortex'], dataInfo['dataSetName'], vmin=0, vmax=1, cmap=\"inferno\")\n",
    "cortex.quickflat.make_figure(roi_data, thick=1, with_curvature=True, with_colorbar=True)\n",
    "\n",
    "plt.show()"
   ]
  },
  {
   "cell_type": "markdown",
   "id": "7dad889c-7d4c-4f3f-8fcb-1926f59b72d3",
   "metadata": {},
   "source": [
    "### Getting voxel IDs in the roi.\n",
    "The \"roi_mask_voxelIDs\" in the code below corresponds to the voxel IDs in the roi."
   ]
  },
  {
   "cell_type": "code",
   "execution_count": null,
   "id": "eaccec69-7a15-4cff-99a6-98878f150745",
   "metadata": {},
   "outputs": [],
   "source": [
    "\n",
    "roi_mask_3d = roi_masks[roi]\n",
    "roi_mask_voxelIDs = np.where(roi_mask_3d.flatten()>0)[0]\n"
   ]
  },
  {
   "cell_type": "markdown",
   "id": "4975ba50-8340-4371-9a31-e1df25da59fc",
   "metadata": {},
   "source": [
    "### Showing voxel IDs of the roi in the epi space."
   ]
  },
  {
   "cell_type": "code",
   "execution_count": null,
   "id": "78e1b5f5-5b7a-4dca-beb0-a48f0aee4c80",
   "metadata": {},
   "outputs": [],
   "source": [
    "\n",
    "datasize = dataInfo['datasize']\n",
    "voxels_in_epi_space__flatten = np.zeros(np.prod(datasize))\n",
    "voxels_in_epi_space__flatten[roi_mask_voxelIDs] = 0.8\n",
    "voxels_in_epi_space__3d = voxels_in_epi_space__flatten.reshape([datasize[2], datasize[1], datasize[0]])\n",
    "\n",
    "# cortex 3d\n",
    "subjectID = np.where(np.array(config['subjectInfo']['names'])==subject_name)[0][0]\n",
    "dtinfo = udl.set_load_items(config, subjectID=subjectID, movID=0)\n",
    "tvoxels = udl.load_mask_data(dtinfo['mask_path'])\n",
    "cortex__flatten = np.zeros(np.prod(datasize))\n",
    "cortex__flatten[tvoxels] = 0.2\n",
    "cortex__3d = cortex__flatten.reshape([datasize[2], datasize[1], datasize[0]])\n",
    "\n",
    "# Show the voxel IDs in the slice image.\n",
    "vol_value = cortex__3d + voxels_in_epi_space__3d\n",
    "plt.imshow(vol_value[25,:,:])\n",
    "plt.show()\n"
   ]
  },
  {
   "cell_type": "code",
   "execution_count": null,
   "id": "b74eef7f-a21b-443c-bd2f-84e2a5f64e35",
   "metadata": {},
   "outputs": [],
   "source": []
  },
  {
   "cell_type": "code",
   "execution_count": null,
   "id": "424ad886-fb51-4889-ba5e-a4a217ab8183",
   "metadata": {},
   "outputs": [],
   "source": []
  },
  {
   "cell_type": "code",
   "execution_count": null,
   "id": "0496d9ff-77f8-445c-b4d8-38f7f11b66eb",
   "metadata": {},
   "outputs": [],
   "source": []
  },
  {
   "cell_type": "code",
   "execution_count": null,
   "id": "3a6af6c0-f702-4bef-8545-5a08bf0656a6",
   "metadata": {},
   "outputs": [],
   "source": []
  }
 ],
 "metadata": {
  "kernelspec": {
   "display_name": "base",
   "language": "python",
   "name": "python3"
  },
  "language_info": {
   "codemirror_mode": {
    "name": "ipython",
    "version": 3
   },
   "file_extension": ".py",
   "mimetype": "text/x-python",
   "name": "python",
   "nbconvert_exporter": "python",
   "pygments_lexer": "ipython3",
   "version": "3.11.5"
  }
 },
 "nbformat": 4,
 "nbformat_minor": 5
}
