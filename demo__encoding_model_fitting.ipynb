{
 "cells": [
  {
   "cell_type": "code",
   "execution_count": null,
   "id": "ca253e0f",
   "metadata": {},
   "outputs": [],
   "source": [
    "\n",
    "import scipy.io as sio\n",
    "import os\n",
    "import numpy as np\n",
    "import pickle\n",
    "import h5py\n",
    "import scipy.stats as stats\n",
    "from sklearn.model_selection import check_cv\n",
    "from sklearn.preprocessing import StandardScaler\n",
    "from sklearn.pipeline import make_pipeline\n",
    "import yaml\n",
    "\n",
    "with open('./util/config__drama_data.yaml', 'r') as f_yml:\n",
    "    config = yaml.safe_load(f_yml)\n",
    "\n",
    "from util import util_dataload as udl\n",
    "from util import util_ridge as uridge\n",
    "\n",
    "from himalaya.ridge import RidgeCV, GroupRidgeCV\n",
    "from himalaya.ridge import ColumnTransformerNoStack\n",
    "import itertools\n"
   ]
  },
  {
   "cell_type": "code",
   "execution_count": null,
   "id": "3d63297a",
   "metadata": {},
   "outputs": [],
   "source": []
  },
  {
   "cell_type": "code",
   "execution_count": null,
   "id": "b87f3d61",
   "metadata": {},
   "outputs": [],
   "source": []
  },
  {
   "cell_type": "markdown",
   "id": "a76a2540",
   "metadata": {},
   "source": [
    "## Listing available features and movie titles"
   ]
  },
  {
   "cell_type": "code",
   "execution_count": null,
   "id": "8cfff56b",
   "metadata": {},
   "outputs": [],
   "source": [
    "\n",
    "print('\\n***** features *****')\n",
    "for featCode in range(3): # 0–3\n",
    "    for layerCode in range(4): # 0–3 [0)6th, 1)12th, 2)18th, 3)24th layer]\n",
    "        annot_type = config['annotInfo']['annotTypes'][featCode]\n",
    "        model_type = config['annotInfo']['modelNames'][featCode]\n",
    "        model_subtype = config['ridgeInfo']['modelSubNames'][model_type][layerCode]\n",
    "        featName = annot_type + '_' + model_type + '_' + model_subtype\n",
    "        print(featName)\n",
    "\n",
    "print('\\n***** movie titles *****')\n",
    "t_movietitle_list = list( np.unique(config['movieInfo']['titleNames']) )\n",
    "print('\\n'.join(t_movietitle_list))"
   ]
  },
  {
   "cell_type": "code",
   "execution_count": null,
   "id": "5a1acf4d",
   "metadata": {},
   "outputs": [],
   "source": []
  },
  {
   "cell_type": "markdown",
   "id": "4e4c61b1",
   "metadata": {},
   "source": [
    "# (Demo) Model fitting\n",
    "\n",
    "## Param: Setting parameters\n",
    "\n",
    "subject_name : S01-S06<br>\n",
    "feat_names :  Selecting ~3 features from the above list. \n",
    "movietitle_test : Selecting a single movie title from the above list. (e.g. 'BigBangTheory')"
   ]
  },
  {
   "cell_type": "code",
   "execution_count": null,
   "id": "f7d66357",
   "metadata": {},
   "outputs": [],
   "source": [
    "\n",
    "subject_name = 'S02'\n",
    "feat_names =  ['objectiveAnnot50chara_GPT2medium_jp_layer12_mean', 'speechTranscription_GPT2medium_jp_layer12_mean', 'story_GPT2medium_jp_layer12_mean']\n",
    "movietitle_test = 'bigbangtheory'\n"
   ]
  },
  {
   "cell_type": "code",
   "execution_count": null,
   "id": "9d65658c",
   "metadata": {},
   "outputs": [],
   "source": [
    "###\n",
    "### other parameters\n",
    "\n",
    "#  ---------------- himalaya  ----------------\n",
    "# You can specify the following parameters related to \"himalaya.\"\n",
    "# https://gallantlab.org/himalaya/\n",
    "onsets = []\n",
    "alphas = np.logspace(-4, 15, 8)\n",
    "intercept = False # Seeing False of True\n",
    "\n",
    "#  ---------------- other OPTION related to ridge reg ----------------\n",
    "stim_delays = [2, 4, 6]\n",
    "nCV = 5\n"
   ]
  },
  {
   "cell_type": "code",
   "execution_count": null,
   "id": "5929e818",
   "metadata": {},
   "outputs": [],
   "source": []
  },
  {
   "cell_type": "markdown",
   "id": "c41f9690",
   "metadata": {},
   "source": [
    "## Main: Predicting BOLD responses from the features."
   ]
  },
  {
   "cell_type": "code",
   "execution_count": null,
   "id": "e4d540cc",
   "metadata": {},
   "outputs": [],
   "source": [
    "###\n",
    "### Data setting\n",
    "\n",
    "### Setting items for data loading\n",
    "subjectID = udl.get_subjectID_from_subjectName(config, subject_name)\n",
    "datasize = udl.get_datasize(config, subjectID)\n",
    "\n",
    "# Setting training subset and the corresponding onset\n",
    "movIDs_train, movIDs_test = udl.get_train_test_movIDs(config, movietitle_test)\n",
    "\n",
    "n_samples_ = udl.get_n_samples_from_movIDs(config, movIDs_train)\n",
    "cv_shuffled_samples, cv_chunk_onset = uridge.get_subset_samples_and_onset(n_samples_, chunkLen=100, seedno=33)\n",
    "\n",
    "# Loading BOLD resp and stim\n",
    "# loading\n",
    "t_movIDs_train_test = {'train': movIDs_train, 'test':movIDs_test}    \n",
    "tmp_data_out = uridge.get_resp_stim(config, subjectID, feat_names, t_movIDs_train_test, stim_delays=stim_delays)\n",
    "# get items\n",
    "Resp_train= tmp_data_out['Resp']['train']\n",
    "Resp_test= tmp_data_out['Resp']['test']\n",
    "Stim_train= tmp_data_out['Stim']['train']\n",
    "Stim_test= tmp_data_out['Stim']['test']\n",
    "dimIDs = tmp_data_out['dimIDs']['ids']\n",
    "dimID_onset = tmp_data_out['dimIDs']['onset']\n",
    "del tmp_data_out\n",
    "# n_samples_train/ test\n",
    "n_samples_train = Resp_train.shape[0]\n",
    "n_samples_test = Resp_test.shape[0]\n",
    "\n",
    "# Nomarizing　stim using M and SD of stim_train\n",
    "m_Stim_train, s_Stim_train, Stim_train = uridge.my_zscore(Stim_train)\n",
    "_, _, Stim_test = uridge.my_zscore(Stim_test, mX=m_Stim_train, sX=s_Stim_train)\n"
   ]
  },
  {
   "cell_type": "code",
   "execution_count": null,
   "id": "1abcfc97",
   "metadata": {},
   "outputs": [],
   "source": [
    "###\n",
    "### Train\n",
    "\n",
    "# (train data) shuffle resp and stim (100s chunk): and divided for 5-fold cv\n",
    "if len(onsets) == 0:\n",
    "    cv_onsets = [np.array_split(cv_chunk_onset, nCV)[cv_id][0] for cv_id in range(nCV)]\n",
    "else: # 'nCV' is not used in this case.\n",
    "    cv_onsets = onsets\n",
    "cv = uridge.generate_leave_one_run_out(n_samples_train, cv_onsets, random_state=0, n_runs_out=1)\n",
    "cv = check_cv(cv)\n",
    "ncv_save = len(cv_onsets)\n",
    "\n",
    "# Separate the first three columns and the last two\n",
    "# columns, creating two groups of shape (n_samples, n_feature_i).\n",
    "groupList = []\n",
    "for tfeatID in range(len(feat_names)):\n",
    "    groupList.append( (\"group_{:d}\".format(tfeatID), StandardScaler(), dimIDs[feat_names[0]]) )\n",
    "ct = ColumnTransformerNoStack( groupList )\n",
    "\n",
    "print('Model fitting ...')\n",
    "solver_params={'alphas':alphas}\n",
    "model = GroupRidgeCV(cv=cv, fit_intercept=intercept, groups=\"input\", solver_params=solver_params)\n",
    "pipe = make_pipeline(ct, model)\n",
    "_ = pipe.fit(Stim_train[cv_shuffled_samples,:], Resp_train[cv_shuffled_samples,:])\n",
    "print('done.')\n"
   ]
  },
  {
   "cell_type": "code",
   "execution_count": null,
   "id": "545f1203",
   "metadata": {},
   "outputs": [],
   "source": [
    "###\n",
    "### Test\n",
    "\n",
    "# Computing pred accuracy: R2\n",
    "r2, r2_split = uridge.get_test_results_r2(model, Stim_test, dimIDs, Resp_test, intercept=intercept)\n",
    "    \n",
    "# Computing pred accuracy: Pearson's corrcoef\n",
    "rs, ps, ps_correction, sig_voxel_inds, ps_alpha = uridge.get_test_results_corr(model, Stim_test, Resp_test, ps_alpha = 0.05, intercept=intercept)\n",
    "result_FDR_correction = {'ps_correction':ps_correction, 'sig_voxel_inds':sig_voxel_inds, 'ps_alpha':ps_alpha}\n"
   ]
  },
  {
   "cell_type": "code",
   "execution_count": null,
   "id": "ff78161e",
   "metadata": {},
   "outputs": [],
   "source": [
    "###\n",
    "### Save\n",
    "\n",
    "accs = dict()\n",
    "accs['r2'] = {'r2':r2, 'r2_split':r2_split}\n",
    "accs['corrcoef'] = {'type':'Pearson', 'rs':rs, 'ps':ps, 'result_FDR_correction':result_FDR_correction}\n",
    "model_items = {'featNames':feat_names, 'dimIDs':dimIDs, 'stim_delays':stim_delays, 'nCV':ncv_save, 'alphas':alphas, 'fit_intercept':intercept, 'mean_Stim_train':m_Stim_train, 'std_Stim_train':s_Stim_train, 'movIDs_train':movIDs_train, 'movIDs_test':movIDs_test}\n",
    "results_model = {'model_type':'ridge_regression', 'model':model, 'model_items':model_items, 'accs':accs}\n",
    "\n",
    "dir_model = config['dir']['ridge'].replace('{derivative_dir}', config['dir']['derivative'])\n",
    "os.makedirs(dir_model, exist_ok=True)\n",
    "featNames_label = udl.get_featNames_label(config, feat_names)\n",
    "path_model = '{:s}/test__banded_ridge__sub-{:s}__{:s}.pkl'.format(dir_model, subject_name, featNames_label)\n",
    "\n",
    "pickle.dump(results_model, open(path_model, 'wb'))\n"
   ]
  },
  {
   "cell_type": "code",
   "execution_count": null,
   "id": "2ccfe2b5",
   "metadata": {},
   "outputs": [],
   "source": []
  },
  {
   "cell_type": "code",
   "execution_count": null,
   "id": "6fbc408c",
   "metadata": {},
   "outputs": [],
   "source": []
  },
  {
   "cell_type": "code",
   "execution_count": null,
   "id": "15a60142-0176-4e4f-a22b-d2f5df3b5ec1",
   "metadata": {},
   "outputs": [],
   "source": []
  }
 ],
 "metadata": {
  "kernelspec": {
   "display_name": "Python 3 (ipykernel)",
   "language": "python",
   "name": "python3"
  },
  "language_info": {
   "codemirror_mode": {
    "name": "ipython",
    "version": 3
   },
   "file_extension": ".py",
   "mimetype": "text/x-python",
   "name": "python",
   "nbconvert_exporter": "python",
   "pygments_lexer": "ipython3",
   "version": "3.12.4"
  }
 },
 "nbformat": 4,
 "nbformat_minor": 5
}
